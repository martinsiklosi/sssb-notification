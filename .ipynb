{
 "cells": [
  {
   "cell_type": "code",
   "execution_count": 1,
   "metadata": {},
   "outputs": [],
   "source": [
    "from time import sleep\n",
    "from contextlib import contextmanager\n",
    "\n",
    "from selenium import webdriver\n",
    "from selenium.webdriver.chrome.options import Options\n",
    "from webdriver_manager.chrome import ChromeDriverManager\n",
    "\n",
    "\n",
    "@contextmanager\n",
    "def chrome_driver():\n",
    "    chrome_options = Options()\n",
    "    chrome_options.add_argument(\"--headless\")\n",
    "    driver = webdriver.Chrome(executable_path=ChromeDriverManager().install(), options=chrome_options)\n",
    "    try:\n",
    "        yield driver\n",
    "    finally:\n",
    "        driver.quit()\n",
    "\n",
    "\n",
    "def get_html(url: str, load_time_seconds: int = 5) -> str:\n",
    "    with chrome_driver() as driver:\n",
    "        driver.get(url)\n",
    "        sleep(load_time_seconds)\n",
    "        return driver.page_source"
   ]
  },
  {
   "cell_type": "code",
   "execution_count": 2,
   "metadata": {},
   "outputs": [
    {
     "name": "stderr",
     "output_type": "stream",
     "text": [
      "C:\\Users\\martin\\AppData\\Local\\Temp\\ipykernel_17072\\3473408956.py:13: DeprecationWarning: executable_path has been deprecated, please pass in a Service object\n",
      "  driver = webdriver.Chrome(executable_path=ChromeDriverManager().install(), options=chrome_options)\n"
     ]
    },
    {
     "data": {
      "text/plain": [
       "[Listing(url='https://sssb.se/soka-bostad/sok-ledigt/lediga-bostader/lagenhet/?refid=4c4d35384972514338665a38694330506365726a586f71765a4166536351445933416e414c525767706c6b3d', apartment_type='1 rum & pentry', adress='David Bagares Gata 6 / 1407', region='Vätan', floor=4, square_meters=37, rent=7091, move_in_date=datetime.datetime(2023, 11, 16, 0, 0)),\n",
       " Listing(url='https://sssb.se/soka-bostad/sok-ledigt/lediga-bostader/lagenhet/?refid=4b574f3348384739456536327543414f7435304c74636e746d57516d4633337278364677656d38795166773d', apartment_type='2 rum & kök', adress='Studentbacken 21 / 1117', region='Jerum', floor=1, square_meters=41, rent=6615, move_in_date=datetime.datetime(2023, 11, 16, 0, 0)),\n",
       " Listing(url='https://sssb.se/soka-bostad/sok-ledigt/lediga-bostader/lagenhet/?refid=5a4c692b2b4e797762476661456973345a6c535252702b6a57774a497942594d2b6d6b4d68526f63356b343d', apartment_type='Rum i korridor', adress='Kungshamra 31 / 1214', region='Kungshamra', floor=2, square_meters=18, rent=3642, move_in_date=datetime.datetime(2023, 11, 1, 0, 0)),\n",
       " Listing(url='https://sssb.se/soka-bostad/sok-ledigt/lediga-bostader/lagenhet/?refid=63715142314e696230496a3749586d39525935704e614f345563434c5877396139333971396a6f6e77706b3d', apartment_type='Rum i korridor', adress='Studentbacken 21 / 1511', region='Jerum', floor=5, square_meters=17, rent=4142, move_in_date=datetime.datetime(2023, 12, 1, 0, 0)),\n",
       " Listing(url='https://sssb.se/soka-bostad/sok-ledigt/lediga-bostader/lagenhet/?refid=5665714555463936493943374b557242626f6b6a4e31646b66647064764372682f5463476b5a33424f6a513d', apartment_type='Rum i korridor', adress='Studentbacken 23 / 1405', region='Jerum', floor=4, square_meters=16, rent=4343, move_in_date=datetime.datetime(2023, 12, 1, 0, 0)),\n",
       " Listing(url='https://sssb.se/soka-bostad/sok-ledigt/lediga-bostader/lagenhet/?refid=313444334f7134314e62565045656756374d6d794c6563696e6b374c346d4e64795745372b336950334c453d', apartment_type='Rum i korridor', adress='Värtavägen 66 / 1316', region='Fyrtalet', floor=3, square_meters=19, rent=4291, move_in_date=datetime.datetime(2023, 12, 1, 0, 0)),\n",
       " Listing(url='https://sssb.se/soka-bostad/sok-ledigt/lediga-bostader/lagenhet/?refid=7a64726b3443582f786c4d616f5841714e506d354a6d37754753565957536c6a5a546d52685a736462464d3d', apartment_type='2 rum & kök', adress='Löjtnantsgatan 13 / 1301', region='Mjölner', floor=3, square_meters=64, rent=10874, move_in_date=datetime.datetime(2023, 12, 1, 0, 0)),\n",
       " Listing(url='https://sssb.se/soka-bostad/sok-ledigt/lediga-bostader/lagenhet/?refid=647a54474137774d6f54684449346d37364843557a4571316b6d7663435275537645496153556f513347553d', apartment_type='Rum i korridor', adress='Körsbärsvägen 4 B / 1109', region='Forum', floor=1, square_meters=18, rent=4096, move_in_date=datetime.datetime(2023, 12, 1, 0, 0)),\n",
       " Listing(url='https://sssb.se/soka-bostad/sok-ledigt/lediga-bostader/lagenhet/?refid=776a544f78366c77516f473934436932742b556a4c71495767535343776e3445586c495a6675354d2b6a493d', apartment_type='Rum i korridor', adress='Edinsvägen 22 A / 1116', region='Balder', floor=1, square_meters=18, rent=3206, move_in_date=datetime.datetime(2023, 12, 1, 0, 0)),\n",
       " Listing(url='https://sssb.se/soka-bostad/sok-ledigt/lediga-bostader/lagenhet/?refid=644f766c69427a774462634668365655794842546e4c57622f786662536e6f565961704e634559695a55383d', apartment_type='1 rum & pentry', adress='Röntgenvägen 1 / 2404', region='Flemingsberg', floor=14, square_meters=28, rent=3856, move_in_date=datetime.datetime(2023, 12, 1, 0, 0)),\n",
       " Listing(url='https://sssb.se/soka-bostad/sok-ledigt/lediga-bostader/lagenhet/?refid=68573935386f61783271506136774a7176694b4b47333846574f794c5937616874374764434376784d6a513d', apartment_type='2 rum & kök', adress='Maltgatan  8 / 1207', region='Embla', floor=2, square_meters=42, rent=9539, move_in_date=datetime.datetime(2023, 12, 1, 0, 0)),\n",
       " Listing(url='https://sssb.se/soka-bostad/sok-ledigt/lediga-bostader/lagenhet/?refid=5344334a4a75397a4f3375477039434258316e7844516e6f7758696e53394c456e4d4976786c6c625563633d', apartment_type='1 rum & kök', adress='Understensvägen 10\\xa0/ 1107', region='Birka', floor=1, square_meters=26, rent=7633, move_in_date=datetime.datetime(2023, 12, 1, 0, 0)),\n",
       " Listing(url='https://sssb.se/soka-bostad/sok-ledigt/lediga-bostader/lagenhet/?refid=73664c4f6b5a62433031313535306d4975746c622f643678564348514f5843666435462b694d4d362b2f6b3d', apartment_type='1 rum & pentry', adress='Armégatan 32 C / 1002', region='Strix', floor=0, square_meters=21, rent=6139, move_in_date=datetime.datetime(2023, 12, 1, 0, 0)),\n",
       " Listing(url='https://sssb.se/soka-bostad/sok-ledigt/lediga-bostader/lagenhet/?refid=704c4168734a316532676d73636e545663707032416b574859796e4c4842544c6d6368366c79466971484d3d', apartment_type='Rum i korridor', adress='Emmylundsvägen 3 / 1408', region='Pax', floor=4, square_meters=18, rent=3654, move_in_date=datetime.datetime(2023, 12, 1, 0, 0)),\n",
       " Listing(url='https://sssb.se/soka-bostad/sok-ledigt/lediga-bostader/lagenhet/?refid=73382f41555746794732304f2f667979567a304570317744693744785155394b687669646f3268504e52553d', apartment_type='1 rum & pentry', adress='Emmylundsvägen 5 / 0909', region='Pax', floor=0, square_meters=22, rent=4654, move_in_date=datetime.datetime(2023, 12, 1, 0, 0)),\n",
       " Listing(url='https://sssb.se/soka-bostad/sok-ledigt/lediga-bostader/lagenhet/?refid=75657251523438443979315a6d5935536c6d526b4b63304139434f67437970505774514d63515a354a74633d', apartment_type='1 rum & pentry', adress='Kungshamra 48 / 1210', region='Kungshamra', floor=2, square_meters=23, rent=4785, move_in_date=datetime.datetime(2023, 12, 1, 0, 0)),\n",
       " Listing(url='https://sssb.se/soka-bostad/sok-ledigt/lediga-bostader/lagenhet/?refid=314d39306176464858506732725a785633346274434472767364746a5974475078746d6b2b6c58496f44413d', apartment_type='3 rum & pentry', adress='Kungshamra 74 A / 1102', region='Kungshamra', floor=1, square_meters=57, rent=7923, move_in_date=datetime.datetime(2023, 12, 1, 0, 0)),\n",
       " Listing(url='https://sssb.se/soka-bostad/sok-ledigt/lediga-bostader/lagenhet/?refid=6363747130763179346343375766346d33496b6374523869786a417462306f3662346e58544566464441553d', apartment_type='1 rum & pentry', adress='Professorsslingan 10 / 1338', region='Lappkärrsberget', floor=3, square_meters=24, rent=5557, move_in_date=datetime.datetime(2023, 12, 1, 0, 0)),\n",
       " Listing(url='https://sssb.se/soka-bostad/sok-ledigt/lediga-bostader/lagenhet/?refid=34716b7665766d526a4b5a72636e79734e3939333879472f6169694d514b623938646749696b4d2f58306b3d', apartment_type='Rum i korridor', adress='Professorsslingan 19 / 1102', region='Lappkärrsberget', floor=1, square_meters=18, rent=4158, move_in_date=datetime.datetime(2023, 12, 1, 0, 0)),\n",
       " Listing(url='https://sssb.se/soka-bostad/sok-ledigt/lediga-bostader/lagenhet/?refid=3554584b63616a31794a767558316758414830685933656d686c524c6b75714b6d475449685a7068674f6f3d', apartment_type='1 rum & pentry', adress='Professorsslingan 23 / 1009', region='Lappkärrsberget', floor=0, square_meters=17, rent=3935, move_in_date=datetime.datetime(2023, 12, 1, 0, 0)),\n",
       " Listing(url='https://sssb.se/soka-bostad/sok-ledigt/lediga-bostader/lagenhet/?refid=314352634567714f396576664d725343594a786551324634514b4c56415472504552732b646f49574a48453d', apartment_type='Rum i korridor', adress='Forskarbacken 21 / 1305', region='Lappkärrsberget', floor=3, square_meters=18, rent=4087, move_in_date=datetime.datetime(2023, 12, 1, 0, 0)),\n",
       " Listing(url='https://sssb.se/soka-bostad/sok-ledigt/lediga-bostader/lagenhet/?refid=73316b416866494e2f54444f4d69724c4e6772633950656b39414e54595a66794c445a48523134666633303d', apartment_type='Rum i korridor', adress='Amanuensvägen  3 / 1206', region='Lappkärrsberget', floor=3, square_meters=18, rent=4143, move_in_date=datetime.datetime(2023, 12, 1, 0, 0)),\n",
       " Listing(url='https://sssb.se/soka-bostad/sok-ledigt/lediga-bostader/lagenhet/?refid=72366a423551325250783448704b694148624a46336c57556630373148694e6c5a2b465a5643303367364d3d', apartment_type='Rum i korridor', adress='Amanuensvägen 10 / 1103', region='Lappkärrsberget', floor=2, square_meters=21, rent=4434, move_in_date=datetime.datetime(2023, 12, 1, 0, 0)),\n",
       " Listing(url='https://sssb.se/soka-bostad/sok-ledigt/lediga-bostader/lagenhet/?refid=46416d716e787747416839736f66455078386b3036624e7133317872306a616d3068646b3056416e6238383d', apartment_type='Rum i korridor', adress='Amanuensvägen  4 / 1003', region='Lappkärrsberget', floor=0, square_meters=18, rent=4344, move_in_date=datetime.datetime(2023, 12, 1, 0, 0)),\n",
       " Listing(url='https://sssb.se/soka-bostad/sok-ledigt/lediga-bostader/lagenhet/?refid=4e52347164584f5742414b506e324c656b57576575363249616643796b373165455563674765525751326f3d', apartment_type='Rum i korridor', adress='Professorsslingan 11 / 1301', region='Lappkärrsberget', floor=3, square_meters=18, rent=4158, move_in_date=datetime.datetime(2023, 12, 1, 0, 0)),\n",
       " Listing(url='https://sssb.se/soka-bostad/sok-ledigt/lediga-bostader/lagenhet/?refid=56425352453947615a313734362f42736a3951353649417a31396871617a504e7a41376b444837634d78383d', apartment_type='Rum i korridor', adress='Forskarbacken  7 / 1106', region='Lappkärrsberget', floor=1, square_meters=18, rent=3901, move_in_date=datetime.datetime(2023, 12, 1, 0, 0))]"
      ]
     },
     "execution_count": 2,
     "metadata": {},
     "output_type": "execute_result"
    }
   ],
   "source": [
    "from datetime import datetime\n",
    "from dataclasses import dataclass, asdict\n",
    "\n",
    "from bs4 import BeautifulSoup\n",
    "\n",
    "URL = \"https://sssb.se/soka-bostad/sok-ledigt/lediga-bostader/?pagination=0&paginationantal=0\"\n",
    "\n",
    "@dataclass(frozen=True)\n",
    "class Listing:\n",
    "    url: str\n",
    "    apartment_type: str\n",
    "    adress: str\n",
    "    region: str\n",
    "    floor: int\n",
    "    square_meters: int\n",
    "    rent: int\n",
    "    move_in_date: datetime\n",
    "    \n",
    "    def asdict(self) -> dict:\n",
    "        return asdict(self)\n",
    "    \n",
    "\n",
    "def extract_int(text: str) -> int:\n",
    "    digits = \"\".join(character \n",
    "                for character in text\n",
    "                if character.isdigit())\n",
    "    digits = \"0\" + digits # 0 if text does not contain any digits\n",
    "    return int(digits)\n",
    "\n",
    "def parse_raw_listing(raw_listing: BeautifulSoup) -> Listing:\n",
    "    # URL and apartment type\n",
    "    title_element = raw_listing.find(attrs={\"class\": \"ObjektTyp\"})\n",
    "    url = title_element.find(href=True).get(\"href\", \"\")\n",
    "    apartment_type = title_element.text.strip()\n",
    "    \n",
    "    # Adress\n",
    "    adress = raw_listing.find(attrs={\"class\": \"ObjektAdress\"}).text.strip()\n",
    "    \n",
    "    # Region\n",
    "    region = raw_listing.find(\"dd\", attrs={\"class\": \"ObjektOmrade\"}).text.strip()\n",
    "    \n",
    "    # Floor\n",
    "    floor_text = raw_listing.find(\"dd\", attrs={\"class\": \"ObjektVaning hidden-phone\"}).text.strip()\n",
    "    floor = extract_int(floor_text)\n",
    "    \n",
    "    # Square meters\n",
    "    square_meters_text = raw_listing.find(\"dd\", attrs={\"class\": \"ObjektYta\"}).text.strip()\n",
    "    square_meters_text = square_meters_text.replace(\"²\", \"\") # Fucks up the int extraction\n",
    "    square_meters = extract_int(square_meters_text)\n",
    "    \n",
    "    # Rent\n",
    "    rent_text = raw_listing.find(\"dd\", attrs={\"class\": \"ObjektHyra\"}).text.replace(u\"\\xa0\", u\" \").strip()\n",
    "    rent = extract_int(rent_text)\n",
    "    \n",
    "    # Move in date\n",
    "    move_in_date_text = raw_listing.find(\"dd\", attrs={\"class\": \"ObjektInflytt hidden-phone\"}).text.strip()\n",
    "    move_in_date = datetime.strptime(move_in_date_text, \"%Y-%m-%d\")\n",
    "    \n",
    "    return Listing(\n",
    "        url=url,\n",
    "        apartment_type=apartment_type,\n",
    "        adress=adress,\n",
    "        region=region,\n",
    "        floor=floor,\n",
    "        square_meters=square_meters,\n",
    "        rent=rent,\n",
    "        move_in_date=move_in_date,\n",
    "    )\n",
    "\n",
    "\n",
    "def get_listings() -> list[Listing]:\n",
    "    html = get_html(URL)\n",
    "    soup = BeautifulSoup(html)\n",
    "    raw_listings = soup.find_all(attrs={\"class\": \"Box ObjektListItem\"})\n",
    "    return [parse_raw_listing(raw_listing)\n",
    "            for raw_listing in raw_listings]\n",
    "    \n",
    "\n",
    "listings = get_listings()\n",
    "listings"
   ]
  },
  {
   "cell_type": "code",
   "execution_count": 4,
   "metadata": {},
   "outputs": [
    {
     "data": {
      "text/plain": [
       "{'url': 'https://sssb.se/soka-bostad/sok-ledigt/lediga-bostader/lagenhet/?refid=313444334f7134314e62565045656756374d6d794c6563696e6b374c346d4e64795745372b336950334c453d',\n",
       " 'apartment_type': 'Rum i korridor',\n",
       " 'adress': 'Värtavägen 66 / 1316',\n",
       " 'region': 'Fyrtalet',\n",
       " 'floor': 3,\n",
       " 'square_meters': 19,\n",
       " 'rent': 4291,\n",
       " 'move_in_date': datetime.datetime(2023, 12, 1, 0, 0)}"
      ]
     },
     "execution_count": 4,
     "metadata": {},
     "output_type": "execute_result"
    }
   ],
   "source": [
    "listings[5].asdict()"
   ]
  },
  {
   "cell_type": "code",
   "execution_count": null,
   "metadata": {},
   "outputs": [],
   "source": []
  }
 ],
 "metadata": {
  "kernelspec": {
   "display_name": "Python 3",
   "language": "python",
   "name": "python3"
  },
  "language_info": {
   "codemirror_mode": {
    "name": "ipython",
    "version": 3
   },
   "file_extension": ".py",
   "mimetype": "text/x-python",
   "name": "python",
   "nbconvert_exporter": "python",
   "pygments_lexer": "ipython3",
   "version": "3.9.9"
  }
 },
 "nbformat": 4,
 "nbformat_minor": 2
}
