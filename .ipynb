{
 "cells": [
  {
   "cell_type": "code",
   "execution_count": 1,
   "metadata": {},
   "outputs": [],
   "source": [
    "from time import sleep\n",
    "from contextlib import contextmanager\n",
    "\n",
    "from selenium import webdriver\n",
    "from selenium.webdriver.chrome.options import Options\n",
    "from webdriver_manager.chrome import ChromeDriverManager\n",
    "\n",
    "@contextmanager\n",
    "def chrome_driver():\n",
    "    chrome_options = Options()\n",
    "    chrome_options.add_argument(\"--headless\")\n",
    "    driver = webdriver.Chrome(executable_path=ChromeDriverManager().install(), options=chrome_options)\n",
    "    try:\n",
    "        yield driver\n",
    "    finally:\n",
    "        driver.quit()\n",
    "\n",
    "def get_html(url: str, load_time_seconds: int = 5) -> str:\n",
    "    with chrome_driver() as driver:\n",
    "        driver.get(url)\n",
    "        sleep(load_time_seconds)\n",
    "        return driver.page_source"
   ]
  },
  {
   "cell_type": "code",
   "execution_count": 14,
   "metadata": {},
   "outputs": [
    {
     "name": "stderr",
     "output_type": "stream",
     "text": [
      "C:\\Users\\martin\\AppData\\Local\\Temp\\ipykernel_14976\\679622810.py:12: DeprecationWarning: executable_path has been deprecated, please pass in a Service object\n",
      "  driver = webdriver.Chrome(executable_path=ChromeDriverManager().install(), options=chrome_options)\n"
     ]
    },
    {
     "data": {
      "text/plain": [
       "[Listing(url='https://sssb.se/soka-bostad/sok-ledigt/lediga-bostader/lagenhet/?refid=4c6d35304658565673584c787a553642594875675a7739535042714c3745505951496f7a625a78612b48633d', apartment_type='1 rum & pentry', adress='David Bagares Gata 6 / 1407', region='Vätan', floor='4 ', area='37 m²', rent='7 091 kr', move_in_date='2023-11-16'),\n",
       " Listing(url='https://sssb.se/soka-bostad/sok-ledigt/lediga-bostader/lagenhet/?refid=7543574d2b7066693264777979706a6f6c44413944347541472b657257577638794775634a5370314c5a493d', apartment_type='2 rum & kök', adress='Studentbacken 21 / 1117', region='Jerum', floor='1 ', area='41 m²', rent='6 615 kr', move_in_date='2023-11-16'),\n",
       " Listing(url='https://sssb.se/soka-bostad/sok-ledigt/lediga-bostader/lagenhet/?refid=776835386a31324a59554c6551744a465359697261746d443074504b797962795a51417934684b426e64733d', apartment_type='Rum i korridor', adress='Studentbacken 21 / 1511', region='Jerum', floor='5 ', area='17 m²', rent='4 142 kr', move_in_date='2023-12-01'),\n",
       " Listing(url='https://sssb.se/soka-bostad/sok-ledigt/lediga-bostader/lagenhet/?refid=39454f544f30504332565733765031326a41457257684b467435705a3259666f2f35306a52344149685a593d', apartment_type='Rum i korridor', adress='Studentbacken 23 / 1405', region='Jerum', floor='4 ', area='16 m²', rent='4 343 kr', move_in_date='2023-12-01'),\n",
       " Listing(url='https://sssb.se/soka-bostad/sok-ledigt/lediga-bostader/lagenhet/?refid=32434b546f567745597a2f6f396f764d5a632b4f416e4d7833664d726641482f693244616d684c683569673d', apartment_type='Rum i korridor', adress='Värtavägen 66 / 1316', region='Fyrtalet', floor='3 ', area='19 m²', rent='4 291 kr', move_in_date='2023-12-01'),\n",
       " Listing(url='https://sssb.se/soka-bostad/sok-ledigt/lediga-bostader/lagenhet/?refid=5a7650686c333431397667775a6756726b77573931555a525a574d785a75345655476433694e2f2b58516f3d', apartment_type='2 rum & kök', adress='Löjtnantsgatan 13 / 1301', region='Mjölner', floor='3 ', area='64 m²', rent='10 874 kr', move_in_date='2023-12-01'),\n",
       " Listing(url='https://sssb.se/soka-bostad/sok-ledigt/lediga-bostader/lagenhet/?refid=32617337665274746f37486863666f4e783052486a6c697a2b446a335155557866484f41433974622f336b3d', apartment_type='Rum i korridor', adress='Körsbärsvägen 4 B / 1109', region='Forum', floor='1 ', area='18 m²', rent='4 096 kr', move_in_date='2023-12-01'),\n",
       " Listing(url='https://sssb.se/soka-bostad/sok-ledigt/lediga-bostader/lagenhet/?refid=6a4864473467523546694630695a367a4d696974744545474330357653684d37457441324d58344f4a2f673d', apartment_type='Rum i korridor', adress='Edinsvägen 22 A / 1116', region='Balder', floor='1 ', area='18 m²', rent='3 206 kr', move_in_date='2023-12-01'),\n",
       " Listing(url='https://sssb.se/soka-bostad/sok-ledigt/lediga-bostader/lagenhet/?refid=464b5770416c4c6831536f787747642f7a77446f6a35793648346a4f54617235472f51566b4b6d52555a633d', apartment_type='1 rum & pentry', adress='Röntgenvägen 1 / 2404', region='Flemingsberg', floor='14 ', area='28 m²', rent='3 856 kr', move_in_date='2023-12-01'),\n",
       " Listing(url='https://sssb.se/soka-bostad/sok-ledigt/lediga-bostader/lagenhet/?refid=69584c69336b492f385154363158734b55347731756d6f31677a64436c6a675376524b534d67614f2b6a303d', apartment_type='2 rum & kök', adress='Maltgatan  8 / 1207', region='Embla', floor='2 ', area='42 m²', rent='9 539 kr', move_in_date='2023-12-01'),\n",
       " Listing(url='https://sssb.se/soka-bostad/sok-ledigt/lediga-bostader/lagenhet/?refid=555263456c3875474b7a31382f51754d4f6c6a34666a753248327553625041565352433634706d536d6e733d', apartment_type='1 rum & kök', adress='Understensvägen 10\\xa0/ 1107', region='Birka', floor='1 ', area='26 m²', rent='7 633 kr', move_in_date='2023-12-01'),\n",
       " Listing(url='https://sssb.se/soka-bostad/sok-ledigt/lediga-bostader/lagenhet/?refid=4130514253557a4650637363754b35594d33365978636b39456445363971544f346c59552f706b4d5074513d', apartment_type='1 rum & pentry', adress='Armégatan 32 C / 1002', region='Strix', floor='Bottenvåning ', area='21 m²', rent='6 139 kr', move_in_date='2023-12-01'),\n",
       " Listing(url='https://sssb.se/soka-bostad/sok-ledigt/lediga-bostader/lagenhet/?refid=7a3478354e44576c6f775465784a50696a7263674668393146516939396363476972486e7a546437414b673d', apartment_type='Rum i korridor', adress='Emmylundsvägen 3 / 1408', region='Pax', floor='4 ', area='18 m²', rent='3 654 kr', move_in_date='2023-12-01'),\n",
       " Listing(url='https://sssb.se/soka-bostad/sok-ledigt/lediga-bostader/lagenhet/?refid=34416635424c6146712b7851684c2f564e626f46767a31453963737766367a4f66535a59766c51444e69383d', apartment_type='1 rum & pentry', adress='Emmylundsvägen 5 / 0909', region='Pax', floor='Sutterängvåning ', area='22 m²', rent='4 654 kr', move_in_date='2023-12-01'),\n",
       " Listing(url='https://sssb.se/soka-bostad/sok-ledigt/lediga-bostader/lagenhet/?refid=3366766c516134755a675a707950774f75305068445532686558736449705775524978763362304461306b3d', apartment_type='1 rum & pentry', adress='Kungshamra 48 / 1210', region='Kungshamra', floor='2 ', area='23 m²', rent='4 785 kr', move_in_date='2023-12-01'),\n",
       " Listing(url='https://sssb.se/soka-bostad/sok-ledigt/lediga-bostader/lagenhet/?refid=325a4148627a672b4e34595a48535158696a6f344b7548377a41635235315130352b5152743462394b43383d', apartment_type='3 rum & pentry', adress='Kungshamra 74 A / 1102', region='Kungshamra', floor='1 ', area='57 m²', rent='7 923 kr', move_in_date='2023-12-01'),\n",
       " Listing(url='https://sssb.se/soka-bostad/sok-ledigt/lediga-bostader/lagenhet/?refid=7043436c4853326841754d7a6136665a77314d54306f71394b3763586d7834694165304735324272777a413d', apartment_type='1 rum & pentry', adress='Professorsslingan 10 / 1338', region='Lappkärrsberget', floor='3 ', area='24 m²', rent='5 557 kr', move_in_date='2023-12-01'),\n",
       " Listing(url='https://sssb.se/soka-bostad/sok-ledigt/lediga-bostader/lagenhet/?refid=4a446753616870667a4257364365496c4f725862546a6c72624830785a6868737669744553427a4146414d3d', apartment_type='Rum i korridor', adress='Professorsslingan 19 / 1102', region='Lappkärrsberget', floor='1 ', area='18 m²', rent='4 158 kr', move_in_date='2023-12-01'),\n",
       " Listing(url='https://sssb.se/soka-bostad/sok-ledigt/lediga-bostader/lagenhet/?refid=763167694e51563234536b2b585859627a73396a77524e4f39684f5875764953356d376947564f6d4b686b3d', apartment_type='1 rum & pentry', adress='Professorsslingan 23 / 1009', region='Lappkärrsberget', floor='Bottenvåning ', area='17 m²', rent='3 935 kr', move_in_date='2023-12-01'),\n",
       " Listing(url='https://sssb.se/soka-bostad/sok-ledigt/lediga-bostader/lagenhet/?refid=5a76384b6d7758322b706a6f5476375235594d46545365453172314a7338574e655835706a73393162426f3d', apartment_type='Rum i korridor', adress='Forskarbacken 21 / 1305', region='Lappkärrsberget', floor='3 ', area='18 m²', rent='4 087 kr', move_in_date='2023-12-01'),\n",
       " Listing(url='https://sssb.se/soka-bostad/sok-ledigt/lediga-bostader/lagenhet/?refid=4e564e7a5237734b5250664c5a67636332656c58416477314634647a577a345058565875494c34635672413d', apartment_type='Rum i korridor', adress='Amanuensvägen  3 / 1206', region='Lappkärrsberget', floor='3 ', area='18 m²', rent='4 143 kr', move_in_date='2023-12-01'),\n",
       " Listing(url='https://sssb.se/soka-bostad/sok-ledigt/lediga-bostader/lagenhet/?refid=6741426165314e452b313859666c596b3652735030466d5441626d4835732f4d774578476872647767356b3d', apartment_type='Rum i korridor', adress='Amanuensvägen 10 / 1103', region='Lappkärrsberget', floor='2 ', area='21 m²', rent='4 434 kr', move_in_date='2023-12-01'),\n",
       " Listing(url='https://sssb.se/soka-bostad/sok-ledigt/lediga-bostader/lagenhet/?refid=464b77634939575a4f2f63464c476f4f4c4d3749684a4a713135544563665470587754456c3868734a54733d', apartment_type='Rum i korridor', adress='Amanuensvägen  4 / 1003', region='Lappkärrsberget', floor='Bottenvåning ', area='18 m²', rent='4 344 kr', move_in_date='2023-12-01'),\n",
       " Listing(url='https://sssb.se/soka-bostad/sok-ledigt/lediga-bostader/lagenhet/?refid=3434624b656d6f4a3363647164447479506931684e7855616a745a376b704e46797867674c7578766d79633d', apartment_type='Rum i korridor', adress='Professorsslingan 11 / 1301', region='Lappkärrsberget', floor='3 ', area='18 m²', rent='4 158 kr', move_in_date='2023-12-01'),\n",
       " Listing(url='https://sssb.se/soka-bostad/sok-ledigt/lediga-bostader/lagenhet/?refid=69616e4a756d486f53507562373365457a757a53564f794c396e6e5871343366456343476b4f78413337453d', apartment_type='Rum i korridor', adress='Forskarbacken  7 / 1106', region='Lappkärrsberget', floor='1 ', area='18 m²', rent='3 901 kr', move_in_date='2023-12-01')]"
      ]
     },
     "execution_count": 14,
     "metadata": {},
     "output_type": "execute_result"
    }
   ],
   "source": [
    "from dataclasses import dataclass\n",
    "from bs4 import BeautifulSoup\n",
    "\n",
    "URL = \"https://sssb.se/soka-bostad/sok-ledigt/lediga-bostader/?pagination=0&paginationantal=0\"\n",
    "\n",
    "@dataclass(frozen=True)\n",
    "class Listing:\n",
    "    url: str\n",
    "    apartment_type: str\n",
    "    adress: str\n",
    "    region: str\n",
    "    floor: str\n",
    "    area: str\n",
    "    rent: str\n",
    "    move_in_date: str\n",
    "    \n",
    "    \n",
    "def parse_raw_listing(raw_listing: BeautifulSoup) -> Listing:\n",
    "    title_element = raw_listing.find(attrs={\"class\": \"ObjektTyp\"})\n",
    "    url = title_element.find(href=True).get(\"href\", \"\")\n",
    "    apartment_type = title_element.text\n",
    "    adress = raw_listing.find(attrs={\"class\": \"ObjektAdress\"}).text\n",
    "    region = raw_listing.find(\"dd\", attrs={\"class\": \"ObjektOmrade\"}).text\n",
    "    floor = raw_listing.find(\"dd\", attrs={\"class\": \"ObjektVaning hidden-phone\"}).text\n",
    "    area = raw_listing.find(\"dd\", attrs={\"class\": \"ObjektYta\"}).text\n",
    "    rent = raw_listing.find(\"dd\", attrs={\"class\": \"ObjektHyra\"}).text.replace(u\"\\xa0\", u\" \")\n",
    "    move_in_date = raw_listing.find(\"dd\", attrs={\"class\": \"ObjektInflytt hidden-phone\"}).text\n",
    "    \n",
    "    return Listing(\n",
    "        url=url,\n",
    "        apartment_type=apartment_type,\n",
    "        adress=adress,\n",
    "        region=region,\n",
    "        floor=floor,\n",
    "        area=area,\n",
    "        rent=rent,\n",
    "        move_in_date=move_in_date,\n",
    "    )\n",
    "\n",
    "def get_listings() -> list[Listing]:\n",
    "    html = get_html(URL)\n",
    "    soup = BeautifulSoup(html)\n",
    "    raw_listings = soup.find_all(attrs={\"class\": \"Box ObjektListItem\"})\n",
    "    return [parse_raw_listing(raw_listing)\n",
    "            for raw_listing in raw_listings]\n",
    "    \n",
    "get_listings()"
   ]
  },
  {
   "cell_type": "code",
   "execution_count": null,
   "metadata": {},
   "outputs": [],
   "source": []
  }
 ],
 "metadata": {
  "kernelspec": {
   "display_name": "Python 3",
   "language": "python",
   "name": "python3"
  },
  "language_info": {
   "codemirror_mode": {
    "name": "ipython",
    "version": 3
   },
   "file_extension": ".py",
   "mimetype": "text/x-python",
   "name": "python",
   "nbconvert_exporter": "python",
   "pygments_lexer": "ipython3",
   "version": "3.9.9"
  }
 },
 "nbformat": 4,
 "nbformat_minor": 2
}
